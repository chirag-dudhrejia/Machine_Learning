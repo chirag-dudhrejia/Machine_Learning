{
 "cells": [
  {
   "cell_type": "code",
   "execution_count": 95,
   "id": "9893c214",
   "metadata": {},
   "outputs": [],
   "source": [
    "import pandas as pd\n",
    "import numpy as np\n",
    "import random\n",
    "import matplotlib.pyplot as plt"
   ]
  },
  {
   "cell_type": "code",
   "execution_count": 96,
   "id": "f381c895",
   "metadata": {},
   "outputs": [],
   "source": [
    "class Kmeans:\n",
    "    def __init__(self, clusters, max_iters = 100):\n",
    "        self.clusters = clusters\n",
    "        self.max_iter = max_iters\n",
    "        self.centroids = None\n",
    "        \n",
    "    def fit_predict(self, x):\n",
    "        random_index = random.sample(range(0, x.shape[0]), self.clusters)\n",
    "        self.centroids = x[random_index]\n",
    "        \n",
    "        for i in range(self.max_iter):\n",
    "            # Assign clusters   step 3\n",
    "            cluster_group = self.assign_cluster(x)\n",
    "            \n",
    "            # Move centroid\n",
    "            old_centroids = self.centroids\n",
    "            self.centroids = self.move_centroids(x, cluster_group)\n",
    "            \n",
    "            # Cheak finish\n",
    "            if np.all(old_centroids == self.centroids):\n",
    "                break\n",
    "        return cluster_group\n",
    "       \n",
    "    \n",
    "    def assign_cluster(self, x):\n",
    "        cluster_group = []\n",
    "        distance = []\n",
    "        \n",
    "        for row in x:\n",
    "            for centroid in self.centroids:\n",
    "                distance.append(np.sqrt(np.sum(np.square(row-centroid))))\n",
    "            min_distance = min(distance)\n",
    "            min_index = distance.index(min_distance)\n",
    "#             print(min_index)\n",
    "            cluster_group.append(min_index)\n",
    "            distance.clear()\n",
    "        return np.array(cluster_group)\n",
    "    \n",
    "    def move_centroids(self, x, cluster_group):\n",
    "        new_centroids = []\n",
    "        cluster_type = np.unique(cluster_group)\n",
    "        \n",
    "        for Type in cluster_type:\n",
    "            new_centroids.append(x[cluster_group == Type].mean(axis=0))\n",
    "        return np.array(new_centroids)"
   ]
  },
  {
   "cell_type": "code",
   "execution_count": 97,
   "id": "8e97fa33",
   "metadata": {},
   "outputs": [
    {
     "data": {
      "text/html": [
       "<div>\n",
       "<style scoped>\n",
       "    .dataframe tbody tr th:only-of-type {\n",
       "        vertical-align: middle;\n",
       "    }\n",
       "\n",
       "    .dataframe tbody tr th {\n",
       "        vertical-align: top;\n",
       "    }\n",
       "\n",
       "    .dataframe thead th {\n",
       "        text-align: right;\n",
       "    }\n",
       "</style>\n",
       "<table border=\"1\" class=\"dataframe\">\n",
       "  <thead>\n",
       "    <tr style=\"text-align: right;\">\n",
       "      <th></th>\n",
       "      <th>cgpa</th>\n",
       "      <th>iq</th>\n",
       "    </tr>\n",
       "  </thead>\n",
       "  <tbody>\n",
       "    <tr>\n",
       "      <th>0</th>\n",
       "      <td>5.13</td>\n",
       "      <td>88</td>\n",
       "    </tr>\n",
       "    <tr>\n",
       "      <th>1</th>\n",
       "      <td>5.90</td>\n",
       "      <td>113</td>\n",
       "    </tr>\n",
       "    <tr>\n",
       "      <th>2</th>\n",
       "      <td>8.36</td>\n",
       "      <td>93</td>\n",
       "    </tr>\n",
       "    <tr>\n",
       "      <th>3</th>\n",
       "      <td>8.27</td>\n",
       "      <td>97</td>\n",
       "    </tr>\n",
       "    <tr>\n",
       "      <th>4</th>\n",
       "      <td>5.45</td>\n",
       "      <td>110</td>\n",
       "    </tr>\n",
       "    <tr>\n",
       "      <th>...</th>\n",
       "      <td>...</td>\n",
       "      <td>...</td>\n",
       "    </tr>\n",
       "    <tr>\n",
       "      <th>195</th>\n",
       "      <td>4.68</td>\n",
       "      <td>89</td>\n",
       "    </tr>\n",
       "    <tr>\n",
       "      <th>196</th>\n",
       "      <td>8.57</td>\n",
       "      <td>118</td>\n",
       "    </tr>\n",
       "    <tr>\n",
       "      <th>197</th>\n",
       "      <td>5.85</td>\n",
       "      <td>112</td>\n",
       "    </tr>\n",
       "    <tr>\n",
       "      <th>198</th>\n",
       "      <td>6.23</td>\n",
       "      <td>108</td>\n",
       "    </tr>\n",
       "    <tr>\n",
       "      <th>199</th>\n",
       "      <td>8.82</td>\n",
       "      <td>117</td>\n",
       "    </tr>\n",
       "  </tbody>\n",
       "</table>\n",
       "<p>200 rows × 2 columns</p>\n",
       "</div>"
      ],
      "text/plain": [
       "     cgpa   iq\n",
       "0    5.13   88\n",
       "1    5.90  113\n",
       "2    8.36   93\n",
       "3    8.27   97\n",
       "4    5.45  110\n",
       "..    ...  ...\n",
       "195  4.68   89\n",
       "196  8.57  118\n",
       "197  5.85  112\n",
       "198  6.23  108\n",
       "199  8.82  117\n",
       "\n",
       "[200 rows x 2 columns]"
      ]
     },
     "execution_count": 97,
     "metadata": {},
     "output_type": "execute_result"
    }
   ],
   "source": [
    "df = pd.read_csv(\"student_clustering.csv\")\n",
    "df"
   ]
  },
  {
   "cell_type": "code",
   "execution_count": 98,
   "id": "b53811c7",
   "metadata": {},
   "outputs": [],
   "source": [
    "x = df.iloc[:,:].values"
   ]
  },
  {
   "cell_type": "code",
   "execution_count": 99,
   "id": "bfab8bbc",
   "metadata": {},
   "outputs": [
    {
     "data": {
      "image/png": "[encoded data removed]",
      "text/plain": [
       "<Figure size 640x480 with 1 Axes>"
      ]
     },
     "metadata": {},
     "output_type": "display_data"
    }
   ],
   "source": [
    "plt.scatter(df[\"cgpa\"], df[\"iq\"])\n",
    "plt.show()"
   ]
  },
  {
   "cell_type": "code",
   "execution_count": 100,
   "id": "2f994a75",
   "metadata": {},
   "outputs": [
    {
     "data": {
      "image/png": "[encoded data removed]",
      "text/plain": [
       "<Figure size 640x480 with 1 Axes>"
      ]
     },
     "metadata": {},
     "output_type": "display_data"
    }
   ],
   "source": [
    "kmeans = Kmeans(clusters=4, max_iters=100)\n",
    "y_means = kmeans.fit_predict(x)\n",
    "# print(y_means)\n",
    "\n",
    "plt.scatter(x[y_means == 0, 0], x[y_means == 0, 1], color=\"blue\")\n",
    "plt.scatter(x[y_means == 1, 0], x[y_means == 1, 1], color=\"green\")\n",
    "plt.scatter(x[y_means == 2, 0], x[y_means == 2, 1], color=\"red\")\n",
    "plt.scatter(x[y_means == 3, 0], x[y_means == 3, 1], color=\"yellow\")\n",
    "plt.show()"
   ]
  },
  {
   "cell_type": "code",
   "execution_count": null,
   "id": "54a848aa",
   "metadata": {},
   "outputs": [],
   "source": []
  },
  {
   "cell_type": "code",
   "execution_count": null,
   "id": "91aa9da6",
   "metadata": {},
   "outputs": [],
   "source": []
  }
 ],
 "metadata": {
  "kernelspec": {
   "display_name": "Python 3 (ipykernel)",
   "language": "python",
   "name": "python3"
  },
  "language_info": {
   "codemirror_mode": {
    "name": "ipython",
    "version": 3
   },
   "file_extension": ".py",
   "mimetype": "text/x-python",
   "name": "python",
   "nbconvert_exporter": "python",
   "pygments_lexer": "ipython3",
   "version": "3.11.4"
  }
 },
 "nbformat": 4,
 "nbformat_minor": 5
}
